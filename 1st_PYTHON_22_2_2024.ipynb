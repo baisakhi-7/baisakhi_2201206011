{
  "nbformat": 4,
  "nbformat_minor": 0,
  "metadata": {
    "colab": {
      "provenance": [],
      "authorship_tag": "ABX9TyMyBoJOckMxmWh58quvpnDc",
      "include_colab_link": true
    },
    "kernelspec": {
      "name": "python3",
      "display_name": "Python 3"
    },
    "language_info": {
      "name": "python"
    }
  },
  "cells": [
    {
      "cell_type": "markdown",
      "metadata": {
        "id": "view-in-github",
        "colab_type": "text"
      },
      "source": [
        "<a href=\"https://colab.research.google.com/github/baisakhi-7/baisakhi_2201206011/blob/main/1st_PYTHON_22_2_2024.ipynb\" target=\"_parent\"><img src=\"https://colab.research.google.com/assets/colab-badge.svg\" alt=\"Open In Colab\"/></a>"
      ]
    },
    {
      "cell_type": "code",
      "source": [],
      "metadata": {
        "id": "flvejokpnD69"
      },
      "execution_count": null,
      "outputs": []
    },
    {
      "cell_type": "code",
      "source": [
        "print('hello',end='')\n",
        "print(\"cse\")"
      ],
      "metadata": {
        "colab": {
          "base_uri": "https://localhost:8080/"
        },
        "id": "uDqNtM7ktVu0",
        "outputId": "c1e49564-c6bb-46c0-c236-7412db451df6"
      },
      "execution_count": null,
      "outputs": [
        {
          "output_type": "stream",
          "name": "stdout",
          "text": [
            "hellocse\n"
          ]
        }
      ]
    },
    {
      "cell_type": "code",
      "source": [
        "a=100\n",
        "print(\"a=\",a)"
      ],
      "metadata": {
        "colab": {
          "base_uri": "https://localhost:8080/"
        },
        "id": "1iTnTcB5w9Dw",
        "outputId": "77397cbc-fff5-4a5b-cfb7-881e7767bfbe"
      },
      "execution_count": null,
      "outputs": [
        {
          "output_type": "stream",
          "name": "stdout",
          "text": [
            "a= 100\n"
          ]
        }
      ]
    },
    {
      "cell_type": "code",
      "source": [
        "n=input('Enter you name')\n",
        "print('myself' ,n)\n"
      ],
      "metadata": {
        "colab": {
          "base_uri": "https://localhost:8080/"
        },
        "id": "2Mgk0Za3yy4e",
        "outputId": "00b5dbfb-8377-4915-bcff-c404e382c3fc"
      },
      "execution_count": null,
      "outputs": [
        {
          "output_type": "stream",
          "name": "stdout",
          "text": [
            "Enter you nameBaisakhi\n",
            "myself Baisakhi\n"
          ]
        }
      ]
    },
    {
      "cell_type": "code",
      "source": [
        "#Arith"
      ],
      "metadata": {
        "id": "txOKroTqqOa1"
      },
      "execution_count": null,
      "outputs": []
    },
    {
      "cell_type": "code",
      "source": [
        "#Addition of two nos from key board\n",
        "a =int (input('Enter 1st no'))\n",
        "b =int (input('Enter 2nd no'))\n",
        "c = a + b\n",
        "print('a+b=',c)"
      ],
      "metadata": {
        "colab": {
          "base_uri": "https://localhost:8080/"
        },
        "id": "vPmEF28K3I-0",
        "outputId": "8af13d4c-4147-415e-f074-9aa4403fc07c"
      },
      "execution_count": null,
      "outputs": [
        {
          "output_type": "stream",
          "name": "stdout",
          "text": [
            "Enter 1st no11\n",
            "Enter 2nd no20\n",
            "a+b= 31\n"
          ]
        }
      ]
    },
    {
      "cell_type": "code",
      "execution_count": null,
      "metadata": {
        "colab": {
          "base_uri": "https://localhost:8080/"
        },
        "id": "5-g19RMUl-UQ",
        "outputId": "b4cde885-2eda-415f-95fc-d0362a9b5db9"
      },
      "outputs": [
        {
          "output_type": "stream",
          "name": "stdout",
          "text": [
            "welcome to my first program\n"
          ]
        }
      ],
      "source": [
        "print('welcome to my first program')\n"
      ]
    },
    {
      "cell_type": "code",
      "source": [
        "# to checkdata type\n",
        "a=100\n",
        "b=10.5\n",
        "c='ABIT'\n",
        "d=True\n",
        "print =('Type of a=',type(a))\n",
        "print =('Type of b=',type(b))\n",
        "print =('Type of c=',type(c))\n",
        "print =('Type of d=',type(d))"
      ],
      "metadata": {
        "id": "Tzgv_oPI59dJ"
      },
      "execution_count": null,
      "outputs": []
    },
    {
      "cell_type": "code",
      "source": [],
      "metadata": {
        "id": "-Ti7jt3guJyN"
      },
      "execution_count": null,
      "outputs": []
    },
    {
      "cell_type": "code",
      "source": [
        "a = 8\n",
        "b = 5\n",
        "d= a != b,\n",
        "print ('a !=b=',d)"
      ],
      "metadata": {
        "colab": {
          "base_uri": "https://localhost:8080/"
        },
        "id": "oKq3wovMrm_0",
        "outputId": "cb7bb7f3-28a5-4faa-a4c4-a1ace12a9261"
      },
      "execution_count": null,
      "outputs": [
        {
          "output_type": "stream",
          "name": "stdout",
          "text": [
            "a !=b= (True,)\n"
          ]
        }
      ]
    },
    {
      "cell_type": "code",
      "source": [
        "a=2\n",
        "b=5\n",
        "a+=b\n",
        "print('a=',a)\n",
        "print('b=',b)"
      ],
      "metadata": {
        "colab": {
          "base_uri": "https://localhost:8080/"
        },
        "id": "Ge36msqru2cO",
        "outputId": "293aa54a-c0f1-48d8-9af8-84ffdd3491cb"
      },
      "execution_count": null,
      "outputs": [
        {
          "output_type": "stream",
          "name": "stdout",
          "text": [
            "a= 7\n",
            "b= 5\n"
          ]
        }
      ]
    },
    {
      "cell_type": "code",
      "source": [],
      "metadata": {
        "id": "aprToKVmveks"
      },
      "execution_count": null,
      "outputs": []
    },
    {
      "cell_type": "code",
      "source": [
        "#Special Operator\n",
        "a=5\n",
        "b=5\n",
        "d=a is b\n",
        "print('a is b=',d)\n",
        "d = a is not b\n",
        "print('a is not b',d)"
      ],
      "metadata": {
        "colab": {
          "base_uri": "https://localhost:8080/"
        },
        "id": "uX0WsHK5v2nl",
        "outputId": "d9013501-62b3-42d0-98d2-b8c0f0d5c1e0"
      },
      "execution_count": null,
      "outputs": [
        {
          "output_type": "stream",
          "name": "stdout",
          "text": [
            "a is b= True\n",
            "a is not b False\n"
          ]
        }
      ]
    },
    {
      "cell_type": "code",
      "source": [
        "# in and not in operator\n",
        "a =\"hello\"\n",
        "b = \"1\"\n",
        "c = b in a\n",
        "print ('b in a=',c)\n",
        "d = b not in a\n",
        "print('b not in a =',d)"
      ],
      "metadata": {
        "colab": {
          "base_uri": "https://localhost:8080/"
        },
        "id": "bNdxR7WBxFkV",
        "outputId": "95b99c26-7e5b-46f5-c16d-e2b42f509735"
      },
      "execution_count": null,
      "outputs": [
        {
          "output_type": "stream",
          "name": "stdout",
          "text": [
            "b in a= False\n",
            "b not in a = True\n"
          ]
        }
      ]
    },
    {
      "cell_type": "code",
      "source": [
        "# input a no and check even.\n",
        "a = int(input('enter a no'))\n",
        "if a%2==0:\n",
        " print ('even no')"
      ],
      "metadata": {
        "colab": {
          "base_uri": "https://localhost:8080/"
        },
        "id": "Cr4QM_dpzsVP",
        "outputId": "b0cd851f-5419-4c2e-9be7-ddd0a74c79d9"
      },
      "execution_count": null,
      "outputs": [
        {
          "output_type": "stream",
          "name": "stdout",
          "text": [
            "enter a no26 \n",
            "even no\n"
          ]
        }
      ]
    },
    {
      "cell_type": "markdown",
      "source": [],
      "metadata": {
        "id": "YDKwuMTv34L7"
      }
    },
    {
      "cell_type": "code",
      "source": [
        "str = 'BAISAKHI'\n",
        "for i in str:\n",
        "   print(i)"
      ],
      "metadata": {
        "colab": {
          "base_uri": "https://localhost:8080/"
        },
        "id": "HCjstpFk3tLR",
        "outputId": "22931ea9-33c2-47af-81f6-22bba22da17d"
      },
      "execution_count": null,
      "outputs": [
        {
          "output_type": "stream",
          "name": "stdout",
          "text": [
            "B\n",
            "A\n",
            "I\n",
            "S\n",
            "A\n",
            "K\n",
            "H\n",
            "I\n"
          ]
        }
      ]
    },
    {
      "cell_type": "code",
      "source": [
        "for i in range (1,11):\n",
        " print(i)"
      ],
      "metadata": {
        "colab": {
          "base_uri": "https://localhost:8080/"
        },
        "id": "TefGjyTs5ero",
        "outputId": "ca29fa58-9501-4cfe-ba2d-677f6a3f5284"
      },
      "execution_count": null,
      "outputs": [
        {
          "output_type": "stream",
          "name": "stdout",
          "text": [
            "1\n",
            "2\n",
            "3\n",
            "4\n",
            "5\n",
            "6\n",
            "7\n",
            "8\n",
            "9\n",
            "10\n"
          ]
        }
      ]
    },
    {
      "cell_type": "code",
      "source": [
        "n = int (input ('n = ?'))\n",
        "c=0\n",
        "for i in range (1,n+1):\n",
        "   if(1%2==1;)\n",
        "    c=c+1\n",
        "    print(i,end=',')\n",
        "    print('No of ODD=',c)\n"
      ],
      "metadata": {
        "id": "nT1BYlRs7BR9"
      },
      "execution_count": null,
      "outputs": []
    },
    {
      "cell_type": "code",
      "source": [
        "# while loop\n",
        "n = i\n",
        "while n<=10:\n",
        "   print(n)\n",
        "   n=n+1"
      ],
      "metadata": {
        "colab": {
          "base_uri": "https://localhost:8080/"
        },
        "id": "_YxvYJ8A9bBJ",
        "outputId": "aa8c676e-b0bc-4acf-983c-4aa1843f25fd"
      },
      "execution_count": null,
      "outputs": [
        {
          "output_type": "stream",
          "name": "stdout",
          "text": [
            "10\n"
          ]
        }
      ]
    },
    {
      "cell_type": "code",
      "source": [
        "unsorted_list=[5,4,-3,7,99]\n",
        "sorted_list=sorted(unsorted_list)\n",
        "print(\"sorted list:\",sorted_list)\n"
      ],
      "metadata": {
        "id": "npDdFj8z-gCq",
        "colab": {
          "base_uri": "https://localhost:8080/"
        },
        "outputId": "df467d30-d60c-4852-ed41-4755f018ae88"
      },
      "execution_count": null,
      "outputs": [
        {
          "output_type": "stream",
          "name": "stdout",
          "text": [
            "sorted list: [-3, 4, 5, 7, 99]\n"
          ]
        }
      ]
    },
    {
      "cell_type": "code",
      "source": [
        "import numpy as np\n",
        "data2 = [[1,2,3,4],[5,5,7,8]]\n",
        "arr2 = np.array(data2)\n",
        "print(arr2.ndim)\n",
        "print(arr2.shape)"
      ],
      "metadata": {
        "colab": {
          "base_uri": "https://localhost:8080/"
        },
        "id": "2Cu-mMCU188P",
        "outputId": "be4844cb-acf0-4695-b724-ce568b04a5b4"
      },
      "execution_count": null,
      "outputs": [
        {
          "output_type": "stream",
          "name": "stdout",
          "text": [
            "2\n",
            "(2, 4)\n"
          ]
        }
      ]
    },
    {
      "cell_type": "code",
      "source": [
        "import numpy as np\n",
        "data2 = [[1,2,3,4],[5,6,7,8],[55,66,76,88]]\n",
        "arr2 = np.array(data2)\n",
        "print(arr2.ndim)\n",
        "print(arr2.shape)\n",
        "print(arr2) import numpy as np"
      ],
      "metadata": {
        "id": "K7Fh_aHv8vtY"
      },
      "execution_count": null,
      "outputs": []
    },
    {
      "cell_type": "code",
      "source": [
        "a = np.array([[0,1,2],[2,3,4]])\n",
        "a"
      ],
      "metadata": {
        "colab": {
          "base_uri": "https://localhost:8080/"
        },
        "id": "9qq_Zw2A9sBM",
        "outputId": "49569e04-a540-4e4e-f740-67dcbaa5d11a"
      },
      "execution_count": null,
      "outputs": [
        {
          "output_type": "execute_result",
          "data": {
            "text/plain": [
              "array([[0, 1, 2],\n",
              "       [2, 3, 4]])"
            ]
          },
          "metadata": {},
          "execution_count": 27
        }
      ]
    },
    {
      "cell_type": "code",
      "source": [
        "array = np.arange(0,10,2)\n",
        "a"
      ],
      "metadata": {
        "colab": {
          "base_uri": "https://localhost:8080/"
        },
        "id": "1g2a9Jyk-iVU",
        "outputId": "dc7102b0-a09e-4f36-c552-9cf632ea1bef"
      },
      "execution_count": null,
      "outputs": [
        {
          "output_type": "execute_result",
          "data": {
            "text/plain": [
              "array([[0, 1, 2],\n",
              "       [2, 3, 4]])"
            ]
          },
          "metadata": {},
          "execution_count": 26
        }
      ]
    },
    {
      "cell_type": "code",
      "source": [
        "array = np.random.randint(0,10,(3,3))\n",
        "a"
      ],
      "metadata": {
        "colab": {
          "base_uri": "https://localhost:8080/"
        },
        "id": "IGnhdA2tAINW",
        "outputId": "68f76d23-c26b-4ab7-aa8e-196ecf71f6cd"
      },
      "execution_count": null,
      "outputs": [
        {
          "output_type": "execute_result",
          "data": {
            "text/plain": [
              "array([[0, 1, 2],\n",
              "       [2, 3, 4]])"
            ]
          },
          "metadata": {},
          "execution_count": 25
        }
      ]
    },
    {
      "cell_type": "code",
      "source": [
        "arr = np.array([[1.,2.,3],[4.,5.,6]])\n",
        "print(arr)\n",
        "[(1,2,3)]"
      ],
      "metadata": {
        "colab": {
          "base_uri": "https://localhost:8080/"
        },
        "id": "peSAmGoaAtoC",
        "outputId": "9ad16bf4-7c96-4b80-e6e3-c138b2e13648"
      },
      "execution_count": null,
      "outputs": [
        {
          "output_type": "stream",
          "name": "stdout",
          "text": [
            "[[1. 2. 3.]\n",
            " [4. 5. 6.]]\n"
          ]
        },
        {
          "output_type": "execute_result",
          "data": {
            "text/plain": [
              "[(1, 2, 3)]"
            ]
          },
          "metadata": {},
          "execution_count": 29
        }
      ]
    },
    {
      "cell_type": "code",
      "source": [],
      "metadata": {
        "id": "zw9vaaCjCIqT"
      },
      "execution_count": null,
      "outputs": []
    },
    {
      "cell_type": "code",
      "source": [
        "def gcd_fun(x,y):\n",
        " if(y==0):#\n",
        "   return x\n",
        " else:\n",
        "   return gcd_fun(y,x%y)\n",
        "x = int(input(\"enter the first number\"))\n",
        "y= int(input(\"enter the second number\"))\n",
        "num=gcd_fun(x,y)\n",
        "print(\"GCD of two numbers is:\")\n",
        "print(num) #call num"
      ],
      "metadata": {
        "colab": {
          "base_uri": "https://localhost:8080/"
        },
        "id": "VZknq3Hq6-lC",
        "outputId": "8872b7a7-5d1f-4dc4-b2a1-66dc3babfca1"
      },
      "execution_count": null,
      "outputs": [
        {
          "output_type": "stream",
          "name": "stdout",
          "text": [
            "enter the first number60\n",
            "enter the second number90\n",
            "GCD of two numbers is:\n",
            "30\n"
          ]
        }
      ]
    },
    {
      "cell_type": "code",
      "source": [
        "def linear_search(list,n,key)\n",
        "for i in range(0,n)\n",
        "    if(list1[i] == key):\n",
        "       return i\n",
        "       return-1\n",
        "       list 1 = [1,3,5,4,7,9]\n",
        "       key = 7\n",
        "       n=len(list1)\n",
        "       res=linear_search(list1,n,key)\n",
        "       if(res==-1):\n",
        "\n",
        "         print(\"element found at index\",res)\n",
        "\n"
      ],
      "metadata": {
        "id": "SA8_S0lbPFAt"
      },
      "execution_count": null,
      "outputs": []
    }
  ]
}